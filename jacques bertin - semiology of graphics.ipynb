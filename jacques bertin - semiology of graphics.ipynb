{
 "cells": [
  {
   "cell_type": "markdown",
   "metadata": {},
   "source": [
    "# Semiology of Graphics\n",
    "## by Jacques Bertin"
   ]
  },
  {
   "cell_type": "markdown",
   "metadata": {},
   "source": [
    "# Part 1: Semiology of the graphic sign-system"
   ]
  },
  {
   "cell_type": "markdown",
   "metadata": {},
   "source": [
    "## I. Analysis of the information"
   ]
  },
  {
   "cell_type": "markdown",
   "metadata": {},
   "source": [
    "<ol>\n",
    "    <li><strong>What is information? According to the book.</strong></li>\n",
    "        It is a series of correspondences observed within a finite set of variational concepts of \"components.\"\n",
    "    <li><strong>What is the invariant?</strong></li>\n",
    "    It is the complete and invariable notion common to all the data.\n",
    "    <li><strong>What is the relation between invariant and the number of components?</strong></li>\n",
    "    The definition of the invariant simplifies as the number of components increases.\n",
    "    <li><strong>When we must utilize retinal variations?</strong></li>\n",
    "    When three or more components are involved.\n",
    "    <li><strong>What is the best basis for classification of graphic constructions?</strong></li>\n",
    "    The number of components.\n",
    "    <li><strong>What means the length of a component?</strong></li>\n",
    "    The number of divisions that it enables us to identify.\n",
    "    <li><strong>When is used the term \"short\" or limited components?</strong></li>\n",
    "    When length does not exceed four.\n",
    "    <li><strong>When is used the term \"long\" or extensive components?</strong></li>\n",
    "    When length exceeds some fifteen divisions.\n",
    "    <li><strong>What is the range of a quantitative series?</strong></li>\n",
    "    It is the ratio of the smallest to the largest number.\n",
    "    <li><strong>What are the three levels of organization of a component?</strong></li>\n",
    "    Qualitative, ordered, or quantitative.\n",
    "    <li><strong>When a component is qualitative?</strong></li>\n",
    "    When its categories are not ordered in a universal manner.\n",
    "    <li><strong>When a component is ordered?</strong></li>\n",
    "    When its categories are ordered in a single and universal manner, and when its categories are defined as equidistant.\n",
    "    <li><strong>When a component is quantitative?</strong></li>\n",
    "    When its object is to specify the variation in distance among the categories.\n",
    "</ol>"
   ]
  },
  {
   "cell_type": "markdown",
   "metadata": {},
   "source": [
    "## II. The properties of the graphic system"
   ]
  },
  {
   "cell_type": "markdown",
   "metadata": {},
   "source": [
    "<ol>\n",
    "    <li><strong>In what can vary marks?</strong></li>\n",
    "        Size, value, texture, color, orientation, shape.\n",
    "    <li><strong>What can express marks?</strong></li>\n",
    "        It can express a correspondence between its plannar position in the series constituing each variable.\n",
    "    <li><strong>What are implantations in a plane?</strong></li>\n",
    "        They are classes of representation that continue the three elementary figures of plane geometry. There are three types: point, line and area.\n",
    "    <li><strong>What determines the level of a variable?</strong></li>\n",
    "        The perceptual properties.\n",
    "    <li><strong>What are the levels of a variable?</strong></li>\n",
    "        Selective, associative, ordered, and quantitative.\n",
    "    <li><strong>What are the categories the designer can relate with the different variables for a third component?</strong></li>\n",
    "    Size, value, texture, color, orientation, shape.\n",
    "    <li><strong>When is necessary to use retinal variables in the graphic representation?</strong></li>\n",
    "        With the introduction of a third component into the information (or a second component in cartography).\n",
    "    <li><strong>When it is constituted an image?</strong></li>\n",
    "        When the planar dimensions represent two components of the information.\n",
    "    <li><strong>When is useful associative perception?</strong></li>\n",
    "    When one is seeking to equalize a variation, and to group correspondences with \"all categories of this variation combined.\"\n",
    "    <li><strong>In what is utilized selective perception?</strong></li>\n",
    "    In obtaining an answer to the question: \"Where is a given category?\"\n",
    "    <li><strong>When is used ordered perception?</strong></li>\n",
    "    When comparing two or several orders.\n",
    "    <li><strong>When is used quantitative perception?</strong></li>\n",
    "    When we seek to define numerically the ratio between two signs. And when we seek to group homogeneous signs, i.e. ones involving small quantitative \"distances\", and thus define the natural steps resulting from a statistical study.\n",
    "</ol>"
   ]
  },
  {
   "cell_type": "markdown",
   "metadata": {},
   "source": [
    "## III. The rules of the graphic system"
   ]
  },
  {
   "cell_type": "markdown",
   "metadata": {},
   "source": [
    "<ol>\n",
    "    <li><strong>What is the basic problem in graphics?</strong></li>\n",
    "        To choose the most appropiate graphic for representing a given set of information.\n",
    "    <li><strong>What does enable us the application of image theory?</strong></li>\n",
    "        To determine, from within the collection of the principal kinds of representation possible, the particular graphic which should be used.\n",
    "    <li><strong>When can we use a distribution curve in graphics?</strong></li>\n",
    "        When the information is not known for each element, but only by classes.\n",
    "    <li><strong>What is the first objective of graphic expression?</strong></li>\n",
    "        To reduce the multiple shapes to the smallest possible number of meaningful shapes (images) without losing the least bit of information.\n",
    "    <li><strong>What new information produces cartographic representation?</strong></li>\n",
    "        The density, which is the relationship of the numbers to geographic area.\n",
    "    <li><strong>In what corresponds isarithms?</strong></li>\n",
    "        To the sectioning of a volume by a series of horizontal planes.\n",
    "    <li><strong>To what is linked efficiency?</strong></li>\n",
    "        It is linked to the degree of facility characterizing each stage in the reading of a graphic.\n",
    "    <li><strong>What are the stages in the reading process?</strong></li>\n",
    "        External identification, internal identification, and  the perception of pertinent (new) correspondences.\n",
    "    <li><strong>What should we do in order to become informed or to perceive pertinent correspondences?</strong></li>\n",
    "        We must formulate questions, whether consciously or not.\n",
    "    <li><strong>What is called an image?</strong></li>\n",
    "        The meaningful visual form, perceptible in the minimum instant of vision.\n",
    "    <li><strong>For what is utilized the plane and its visual signs in recording information?</strong></li>\n",
    "        To create storage mechanism which avoids the effort of memorization.\n",
    "    <li><strong>For what is utilized the plane and its visual signs in communicating information?</strong></li>\n",
    "        To create a memorizable image which inscribes the overall information within the field of assimilated knowledge.\n",
    "    <li><strong>What it means to process the information?</strong></li>\n",
    "        Utilizing the mechanism of ordering and classing, for the purposes of discovering the grouping contained in the information being processed, and deriving from it new components or categories, reduced in number and consequently easier to memorize than the comprehensive information.\n",
    "    <li><strong>For what is used graphic representation?</strong></li>\n",
    "    To reduce the comprehensive, nonmemorizable inventory to a simplified, memorizable message.\n",
    "    <li><strong>What are the general rules of graphic construction?</strong></li>\n",
    "        - To represent the information in a single image. <br>\n",
    "        - To simplify the image without reducing the number of correspondences. <br>\n",
    "        - To simplify the image by reduction. <br>\n",
    "    <li><strong>What must precede any graphic construction?</strong></li>\n",
    "        The definition of the components of the information, specifying their number, level, and length.\n",
    "    <li><strong>On what depends the rules represented by the standard schemas?</strong></li>\n",
    "        They depend on the imposition (diagrams, networks, or maps) and the number of components.\n",
    "    <li><strong>What is angular separation?</strong></li>\n",
    "    Separate two planar dimensions and avoid a \"squashing\" of the plane which limits angular differentiation.\n",
    "    <li><strong>What is retinal separation?</strong></li>\n",
    "    Separate the meaningful marks from the meaningless ones and, within each retinal variable, separate the steps in order to avoid and image which is too weak or too bold.\n",
    "    <li><strong>What is graphic density?</strong></li>\n",
    "    The optimum number of marks per $cm^2$ between a density which is too great and one which is too sparse.\n",
    "    <li><strong>When is legibility optimum in relation with the amount of black?</strong></li>\n",
    "        When the total amount of black varies between 5% and 10% of the meaningful area of the plane.\n",
    "</ol>"
   ]
  }
 ],
 "metadata": {
  "kernelspec": {
   "display_name": "Python 3",
   "language": "python",
   "name": "python3"
  },
  "language_info": {
   "codemirror_mode": {
    "name": "ipython",
    "version": 3
   },
   "file_extension": ".py",
   "mimetype": "text/x-python",
   "name": "python",
   "nbconvert_exporter": "python",
   "pygments_lexer": "ipython3",
   "version": "3.6.5"
  }
 },
 "nbformat": 4,
 "nbformat_minor": 4
}
