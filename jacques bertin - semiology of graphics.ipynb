{
 "cells": [
  {
   "cell_type": "markdown",
   "metadata": {},
   "source": [
    "# Semiology of Graphics\n",
    "## by Jacques Bertin"
   ]
  },
  {
   "cell_type": "markdown",
   "metadata": {},
   "source": [
    "# Part 1: Semiology of the graphic sign-system"
   ]
  },
  {
   "cell_type": "markdown",
   "metadata": {},
   "source": [
    "## I. Analysis of the information"
   ]
  },
  {
   "cell_type": "code",
   "execution_count": null,
   "metadata": {},
   "outputs": [],
   "source": []
  },
  {
   "cell_type": "markdown",
   "metadata": {},
   "source": [
    "## II. The properties of the graphic system"
   ]
  },
  {
   "cell_type": "markdown",
   "metadata": {},
   "source": [
    "<ol>\n",
    "    <li><strong>In what can vary marks?</strong></li>\n",
    "        Size, value, texture, color, orientation, shape.\n",
    "    <li><strong>What can express marks?</strong></li>\n",
    "        It can express a correspondence between its plannar position in the series constituing each variable.\n",
    "    <li><strong>What are implantations in a plane?</strong></li>\n",
    "        They are classes of representation that continue the three elementary figures of plane geometry. There are three types: point, line and area.\n",
    "    <li><strong>What determines the level of a variable?</strong></li>\n",
    "        The perceptual properties.\n",
    "    <li><strong>What are the levels of a variable?</strong></li>\n",
    "        Selective, associative, ordered, and quantitative.\n",
    "    <li><strong>What are the categories the designer can relate with the different variables for a third component?</strong></li>\n",
    "    Size, value, texture, color, orientation, shape.\n",
    "    <li><strong></strong></li>\n",
    "    <li><strong></strong></li>\n",
    "    <li><strong></strong></li>\n",
    "    <li><strong></strong></li>\n",
    "</ol>"
   ]
  },
  {
   "cell_type": "markdown",
   "metadata": {},
   "source": [
    "## III. The rules of the graphic system"
   ]
  },
  {
   "cell_type": "markdown",
   "metadata": {},
   "source": [
    "<ol>\n",
    "    <li><strong>What is the basic problem in graphics?</strong></li>\n",
    "        To choose the most appropiate graphic for representing a given set of information.\n",
    "    <li><strong>What does enable us the application of image theory?</strong></li>\n",
    "        To determine, from within the collection of the principal kinds of representation possible, the particular graphic which should be used.\n",
    "    <li><strong>When can we use a distribution curve in graphics?</strong></li>\n",
    "        When the information is not known for each element, but only by classes.\n",
    "    <li><strong>What is the first objective of graphic expression?</strong></li>\n",
    "        To reduce the multiple shapes to the smallest possible number of meaningful shapes (images) without losing the least bit of information.\n",
    "    <li><strong>What new information produces cartographic representation?</strong></li>\n",
    "        The density, which is the relationship of the numbers to geographic area.\n",
    "    <li><strong>In what corresponds isarithms?</strong></li>\n",
    "        To the sectioning of a volume by a series of horizontal planes.\n",
    "    <li><strong></strong></li>\n",
    "    <li><strong></strong></li>\n",
    "    <li><strong></strong></li>\n",
    "    <li><strong></strong></li>\n",
    "    <li><strong></strong></li>\n",
    "</ol>"
   ]
  }
 ],
 "metadata": {
  "kernelspec": {
   "display_name": "Python 3",
   "language": "python",
   "name": "python3"
  },
  "language_info": {
   "codemirror_mode": {
    "name": "ipython",
    "version": 3
   },
   "file_extension": ".py",
   "mimetype": "text/x-python",
   "name": "python",
   "nbconvert_exporter": "python",
   "pygments_lexer": "ipython3",
   "version": "3.6.5"
  }
 },
 "nbformat": 4,
 "nbformat_minor": 4
}
